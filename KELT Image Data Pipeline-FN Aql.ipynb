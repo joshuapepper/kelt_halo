{
 "cells": [
  {
   "cell_type": "code",
   "execution_count": 1,
   "metadata": {},
   "outputs": [],
   "source": [
    "import numpy as np\n",
    "import os\n",
    "from astropy.io import fits\n",
    "from astropy.stats import LombScargle\n",
    "from photutils import aperture_photometry as photometry\n",
    "from photutils import CircularAperture as circle\n",
    "from photutils import CircularAnnulus as annulus\n",
    "from photutils import RectangularAperture as rectangle\n",
    "from photutils import ApertureMask as mask\n",
    "import matplotlib.pyplot as plt\n",
    "import matplotlib as mpl\n",
    "%matplotlib inline\n",
    "np.set_printoptions(threshold=np.nan)\n"
   ]
  },
  {
   "cell_type": "markdown",
   "metadata": {},
   "source": [
    "                                                Initial Setup"
   ]
  },
  {
   "cell_type": "code",
   "execution_count": 2,
   "metadata": {},
   "outputs": [],
   "source": [
    "initial_directory = '/Users/Olive/Desktop/kelt pipeline/Full Images' # path of directory that contains full image fits files\n",
    "cutout_directory = '/Users/Olive/Desktop/kelt pipeline/testCut/' # location for image cutouts\n",
    "\n",
    "all_files=os.listdir(initial_directory) #extract list of files\n",
    "file_count = len(all_files) # gives number of files in directory\n",
    "sort_files = sorted(all_files) # sort directory in alphanumeric order\n",
    "full_img_list = [os.path.join(initial_directory, sort_files[i]) for i in range(0,file_count)] # create file path names for full image files"
   ]
  },
  {
   "cell_type": "markdown",
   "metadata": {},
   "source": [
    "                                                Creating Image Cutouts"
   ]
  },
  {
   "cell_type": "code",
   "execution_count": null,
   "metadata": {},
   "outputs": [],
   "source": [
    "#cell containing upcoming variables\n",
    "\n",
    "cutout_x_start = 20\n",
    "cutout_x_stop = 40\n",
    "cutout_y_start = 80\n",
    "cutout_y_stop = 100"
   ]
  },
  {
   "cell_type": "code",
   "execution_count": 28,
   "metadata": {},
   "outputs": [],
   "source": [
    "#a function to create new image cutouts\n",
    "for i in range(0,file_count):\n",
    "    image=fits.open(full_img_list[i]) #open file\n",
    "    imageData = image[1].data  #take out data from file (data is in 'section' 1)\n",
    "    image.close()\n",
    "    image_cutout_data= imageData[cutout_x_start:cutout_x_stop, cutout_y_start:cutout_y_stop]  #choose area of data to keep\n",
    "    image_cutout = fits.PrimaryHDU(image_cutout_data)  #assign data to new fits file\n",
    "    cutoutName='cutout_'+all_files[i][len(all_files[i])-20:] #appends 'cutout' to the date and id of photo\n",
    "    destination=cutout_directory+cutoutName  #define destination of new file. CHANGE, GO THROUGH ALL IMAGES IN A STAR\n",
    "    image_cutout.writeto(destination)  #save fits file    "
   ]
  },
  {
   "cell_type": "code",
   "execution_count": 3,
   "metadata": {},
   "outputs": [],
   "source": [
    "# create file path names for full image files\n",
    "cutout_img_list = [os.path.join(cutout_directory, sorted(os.listdir(cutout_directory))[i]) for i in range(0,file_count)]"
   ]
  },
  {
   "cell_type": "markdown",
   "metadata": {},
   "source": [
    "might need to figure out how to append the header data in the future"
   ]
  },
  {
   "cell_type": "markdown",
   "metadata": {},
   "source": [
    "                                        Producing a Light Curve and Phase Curve"
   ]
  },
  {
   "cell_type": "code",
   "execution_count": 4,
   "metadata": {},
   "outputs": [],
   "source": [
    "# cell for upcoming variables not previously defined\n",
    "display_file = 1 # target file number to display target image\n",
    "target_img_size = 20 # x by x pixel size of target image\n",
    "\n",
    "x_aperture = 9 # x coordinate of target aperture center within the star cutout \n",
    "y_aperture = 9 # y coordinate of target aperture center within the star cutout \n",
    "r = 2 # radius of target aperture\n",
    "\n",
    "x_background = x_aperture # x coordinate of background annulus center\n",
    "y_background = y_aperture # y coordinate of background annulus center\n",
    "r_in = 8 # inner radius of background annulus\n",
    "r_out = r_in + 1 # outer radius of background annulus\n",
    "\n",
    "start = 0 # first image file to include in photometry\n",
    "stop = 800 # number of images to include in photometry\n",
    "\n",
    "low_period = 1.5 # lowest period for LombScargle to test on target star\n",
    "high_period = 100 # highest period for LombScargle to test on target star\n",
    "\n",
    "comparison_stars= np.loadtxt('FNAQL_stars.txt', skiprows=1)"
   ]
  },
  {
   "cell_type": "code",
   "execution_count": 32,
   "metadata": {},
   "outputs": [
    {
     "ename": "SyntaxError",
     "evalue": "invalid syntax (<ipython-input-32-1643982181de>, line 84)",
     "output_type": "error",
     "traceback": [
      "\u001b[1;36m  File \u001b[1;32m\"<ipython-input-32-1643982181de>\"\u001b[1;36m, line \u001b[1;32m84\u001b[0m\n\u001b[1;33m    target_fluxnorm = []\u001b[0m\n\u001b[1;37m                  ^\u001b[0m\n\u001b[1;31mSyntaxError\u001b[0m\u001b[1;31m:\u001b[0m invalid syntax\n"
     ]
    }
   ],
   "source": [
    "# The following data for this star is given in the VizieR database\n",
    "# name: FN Aql, period: 9.48151 days, RA and dec: (19:12:47.3112, +03:33:26.712), magnitude range: (8.110, 8.680)\n",
    "\n",
    "open_cutouts =[]\n",
    "for i in range (0,file_count):\n",
    "    image=fits.open(cutout_img_list[i]) #open file\n",
    "    imageData = image[0].data  #take out data from file (data is in 'section' 1)\n",
    "    image.close()\n",
    "    open_cutouts.append(imageData)\n",
    "\n",
    "center = len(data[display_file-1])/2 # calculate center location of target image\n",
    "target = data[display_file-1][int(center-target_img_size/2):int(center+target_img_size/2),int(center-target_img_size/2):int(center+target_img_size/2)] # create array of target image data values for specified file\n",
    "\n",
    "aperture_main_cutout = circle((x_aperture,y_aperture), r) # create circular aperture around target\n",
    "background_main_cutout = annulus((x_background,y_background), r_in, r_out) # create annulus for background flux\n",
    "\n",
    "# create target image with target aperture and background annulus\n",
    "\n",
    "mpl.rcParams['figure.figsize'] = (20,6)\n",
    "mpl.rcParams['font.size'] = 16\n",
    "\n",
    "plt.subplot(121)\n",
    "plt.title('Target Star Image')\n",
    "plt.imshow(target, origin='lower')\n",
    "plt.colorbar()\n",
    "aperture_main_cutout.plot(color='red')\n",
    "background_main_cutout.plot(color='orange')\n",
    "\n",
    "\n",
    "offset = (len(data[display_file-1])-target_img_size)/2 # calculate difference between center coordinates of target image and comparison stars image\n",
    "aperture_large_img = circle((x_aperture+offset,y_aperture+offset), r) # place aperture on target star in comparison stars image\n",
    "background_large_img = annulus((x_background+offset,y_background+offset), r_in, r_out) # place background annulus so that it is surrounding target star in comparison stars image\n",
    "\n",
    "# define comparison star coordinates and radii from an existing text file \n",
    "\n",
    "comparison_star_circles= [] # empty list to put new star circles into\n",
    "for i in range(len(comparison_stars)):\n",
    "    newStar = comparison_stars[i] #ientify row for clearer use in the next line\n",
    "    newStar_circle = circle((newStar[0],newStar[1]), r=newStar[2]) \n",
    "    comparison_star_circles.append(newStar_circle) # create list of circles to plot\n",
    "    \n",
    "\n",
    "# create comparison stars image with target aperture, comparison apertures, and background annulus\n",
    "\n",
    "plt.subplot(122)\n",
    "plt.title('Comparison Stars Image')\n",
    "plt.imshow(data[display_file-1], origin='lower')\n",
    "plt.colorbar()\n",
    "aperture_large_img.plot(color='red')\n",
    "background_large_img.plot(color='orange')\n",
    "\n",
    "for i in range(len(comparison_star_circles)):\n",
    "    comparison_star_circles[i].plot(color='red')\n",
    "\n",
    "plt.show()\n",
    "\n",
    "\n",
    "background_mask = background_large_img.to_mask(method='center') # create mask over pixels in background annulus that have their centers within the annulus \n",
    "background_data = [background_mask[0].multiply(data[i]) for i in range(start,stop)] # create array of flux values with zero values corresponding to data outside the mask and nonzero values corresponding to the data within the mask \n",
    "background_flux = [background_data[i][background_mask[0].data > 0] for i in range(start,stop)] # create array of flux values contained in mask\n",
    "background_median = [np.median(background_flux[i]) for i in range(start,stop)] # find median of background flux array\n",
    " \n",
    "target_sum = [photometry(data[i], aperture_large_img, method = 'exact') for i in range(start,stop)] # sum up exact amount of flux contained in the target aperture\n",
    "target_background_sum = [background_median[i] * aperture_large_img.area() for i in range(start,stop)] # multiply background median by area of aperture to get background flux contained in aperture\n",
    "target_subtract = np.array([target_sum[i]['aperture_sum'] - target_background_sum[i] for i in range(start,stop)]) # subtract background flux in aperture from aperture's total flux\n",
    "target_flux = target_subtract[target_subtract > 0] # disregard zero flux values \n",
    "\n",
    "time=[]\n",
    "for i in range(0,len(target_flux)):\n",
    "    original_file = fits.open(full_img_list[i])\n",
    "    original_file_time= original_file[1].header['JDT']\n",
    "    time.append(original_file_time)\n",
    "    original_file.close\n",
    "\n",
    "\n",
    "# create target flux vs. time plot\n",
    "\n",
    "plt.subplot(121)\n",
    "plt.title('Target Flux')\n",
    "plt.xlabel('Time (JDT)')\n",
    "plt.ylabel('Normalized Flux')\n",
    "plt.xticks(np.arange(round(min(time),-2), max(time)+1, 100)\n",
    "\n",
    "target_flux_norm = []\n",
    "for i in range(0,len(target_flux)):\n",
    "    norm = target_flux[i]/max(target_flux)\n",
    "    target_flux_norm.append(norm)\n",
    "plt.plot(time, target_flux_norm, '.')\n",
    "\n",
    "#**neew to turn into a collection loop**\n",
    "\n",
    "comparison_sum = [[photometry(data[i], comparison_star_circles[j], method = 'exact') for i in range(start,stop)] for j in range(0,len(comparison))] # sum up exact amount of flux contained in each comparison star aperture\n",
    "comparison_background_sum = [[background_median[i] * comparison_star_circles[j].area() for i in range(start,stop)] for j in range(0,len(comparison))] # multiply background median by area of each aperture to get background flux contained in each aperture\n",
    "comparison_subtract = np.array([[comparison_sum[j][i]['aperture_sum'] - comparison_background_sum[j][i] for i in range(start,stop)] for j in range(0,len(comparison))]) # subtract background flux in each aperture from each aperture's total flux\n",
    "comparison_total = comparison_subtract.sum(axis=0) # sum up the background subtracted flux for all comparison stars\n",
    "comparison_flux = comparison_total[comparison_total > 0] # disregard zero flux values\n",
    "\n",
    "\n",
    "# create comparison flux vs. time plot\n",
    "\n",
    "plt.subplot(122)\n",
    "plt.title('Comparison Flux')\n",
    "plt.xlabel('Time (JDT)')\n",
    "plt.ylabel('Normalized Flux')\n",
    "plt.xticks(np.arange(round(min(time),-2), max(time)+1, round((max(time)+1-min(time))/5,-2)))\n",
    "plt.plot(time, comparison_flux/max(comparison_flux), '.')\n",
    "plt.show()\n",
    "\n",
    "\n",
    "final_flux = np.subtract(target_flux, comparison_flux) # subtract target flux from comparison flux\n",
    "\n",
    "\n",
    "# create target light curve with target flux minus comparison flux vs. time \n",
    "\n",
    "plt.title('Target Light Curve')\n",
    "plt.xlabel('Time (JDT)')\n",
    "plt.ylabel('Normalized Flux')\n",
    "plt.xticks(np.arange(round(min(time),-2), max(time)+1, round((max(time)+1-min(time))/10,-2)))\n",
    "plt.plot(time, (final_flux - min(final_flux))/(max(final_flux)-min(final_flux)), '.') \n",
    "plt.show()\n",
    "\n",
    "frequency, power = LombScargle(time, final_flux).autopower(minimum_frequency = 1/high_period, maximum_frequency = 1/low_period) # use Lomb-Scargle Periodogram to test period range on target \n",
    "\n",
    "\n",
    "# create target periodogram with power vs. period\n",
    "\n",
    "plt.subplot(121)\n",
    "plt.plot(1/frequency, power)\n",
    "plt.title('Target Periodogram')\n",
    "plt.xlabel('Period (days)')\n",
    "plt.ylabel('Power')\n",
    "    \n",
    "    \n",
    "best_frequency = frequency[np.argmax(power)] # find frequency with highest power value\n",
    "period = 1/best_frequency # convert this frequency to a period\n",
    "low = np.argmin(final_flux) # find lowest value of flux \n",
    "phase_offset = 0.5 - np.remainder(time[low], period) / period # calculate phase offset so that lowest flux value in each cycle is located at half the period\n",
    "phase = np.remainder(time + phase_offset * period, period * 2) / period # calculate the phase of the target flux for two cycles\n",
    "\n",
    "\n",
    "# create target phase curve with flux vs. phase\n",
    "\n",
    "plt.subplot(122)\n",
    "plt.plot(phase, (final_flux - min(final_flux))/max(final_flux-min(final_flux)), '.')\n",
    "plt.title('Target Phase Curve')\n",
    "plt.xlabel('Phase')\n",
    "plt.ylabel('Normalized Flux')\n",
    "plt.show()\n",
    "\n",
    "\n",
    "# print the most likely period with its corresponding power value for the target star\n",
    "\n",
    "print(\"best period for range\", low_period, \"to\", high_period, \"days =\", period, \"days\")\n",
    "print(\"power value for best period = \", max(power))"
   ]
  },
  {
   "cell_type": "markdown",
   "metadata": {},
   "source": [
    "                                                Creating Flux Histogram"
   ]
  },
  {
   "cell_type": "code",
   "execution_count": 18,
   "metadata": {},
   "outputs": [],
   "source": [
    "# cell for upcoming variables not previously defined\n",
    "\n",
    "target_img_size = 20 # pixel size of target image\n",
    "\n",
    "# target star aperture and background annulus center coordinates and radii \n",
    "#  for target image are used from section \"producing a light curfe an phase curve\"\n",
    "\n",
    "bin_size = 5000 # bin size for histogram"
   ]
  },
  {
   "cell_type": "code",
   "execution_count": 18,
   "metadata": {
    "collapsed": true
   },
   "outputs": [
    {
     "data": {
      "image/png": "[encoded data removed]",
      "text/plain": [
       "<Figure size 1440x432 with 3 Axes>"
      ]
     },
     "metadata": {},
     "output_type": "display_data"
    }
   ],
   "source": [
    "# create array of target image data values for specified file\n",
    "\n",
    "print(center)\n",
    "center = len(data[display_file-1])/2 # calculate center location of target image\n",
    "print(center)\n",
    "first_x = int(center-target_img_size/2)\n",
    "last_x = int(center+target_img_size/2)\n",
    "first_y = first_x\n",
    "last_y = last_x\n",
    "target = data[display_file-1][first_x:last_x,first_y:last_y] \n",
    "\n",
    "# create target image with target aperture and background annulus\n",
    "\n",
    "plt.subplot(121)\n",
    "plt.title('Target Image')\n",
    "plt.imshow(target, origin='lower')\n",
    "plt.colorbar()\n",
    "aperture_main_cutout.plot(color='red')\n",
    "background_main_cutout.plot(color='orange')\n",
    "\n",
    "aperture_mask = aperture_main_cutout.to_mask(method='center') # create mask over pixels in target aperture that have their centers within the annulus \n",
    "aperture_data = aperture_mask[0].multiply(target) # create array of flux values with zero values corresponding to data outside the mask and nonzero values corresponding to the data within the mask \n",
    "aperture_flux = aperture_data[aperture_mask[0].data > 0] # create array of flux values contained in mask\n",
    "\n",
    "# create bins for histogram up to highest flux value in aperture\n",
    "bins = np.arange(0,max(np.ndarray.flatten(target)+bin_size),bin_size) \n",
    "\n",
    "# create flux histrogram of values within target aperture\n",
    "plt.subplot(122)\n",
    "plt.hist(aperture_flux, bins);\n",
    "plt.title('Flux Histogram')\n",
    "plt.xlabel('Flux')\n",
    "plt.ylabel('Frequency');\n",
    "plt.show()"
   ]
  },
  {
   "cell_type": "markdown",
   "metadata": {},
   "source": [
    "                                            Examining Abnormal Flux Values"
   ]
  },
  {
   "cell_type": "code",
   "execution_count": 23,
   "metadata": {},
   "outputs": [],
   "source": [
    "# cell for upcoming variables not previously defined\n",
    "\n",
    "img_file = 1 # target file number to display target image\n",
    "img_size = 20 # pixel size of target image\n",
    "\n",
    "# target star aperture and background annulus center coordinates and radii \n",
    "#   for target image are used from section \"producing a light curfe an phase curve\"\n"
   ]
  },
  {
   "cell_type": "code",
   "execution_count": 6,
   "metadata": {
    "collapsed": true
   },
   "outputs": [
    {
     "ename": "NameError",
     "evalue": "name 'surroundings_data' is not defined",
     "output_type": "error",
     "traceback": [
      "\u001b[1;31m---------------------------------------------------------------------------\u001b[0m",
      "\u001b[1;31mNameError\u001b[0m                                 Traceback (most recent call last)",
      "\u001b[1;32m<ipython-input-6-5ffbe666168f>\u001b[0m in \u001b[0;36m<module>\u001b[1;34m()\u001b[0m\n\u001b[1;32m----> 1\u001b[1;33m \u001b[0mcenter\u001b[0m \u001b[1;33m=\u001b[0m \u001b[0mlen\u001b[0m\u001b[1;33m(\u001b[0m\u001b[0msurroundings_data\u001b[0m\u001b[1;33m[\u001b[0m\u001b[0mimg_file\u001b[0m\u001b[1;33m-\u001b[0m\u001b[1;36m1\u001b[0m\u001b[1;33m]\u001b[0m\u001b[1;33m)\u001b[0m\u001b[1;33m/\u001b[0m\u001b[1;36m2\u001b[0m \u001b[1;31m# calculate center location of target image\u001b[0m\u001b[1;33m\u001b[0m\u001b[0m\n\u001b[0m\u001b[0;32m      2\u001b[0m \u001b[0mtarget\u001b[0m \u001b[1;33m=\u001b[0m \u001b[0msurroundings_data\u001b[0m\u001b[1;33m[\u001b[0m\u001b[0mimg_file\u001b[0m\u001b[1;33m-\u001b[0m\u001b[1;36m1\u001b[0m\u001b[1;33m]\u001b[0m\u001b[1;33m[\u001b[0m\u001b[0mint\u001b[0m\u001b[1;33m(\u001b[0m\u001b[0mcenter\u001b[0m\u001b[1;33m-\u001b[0m\u001b[0mimg_size\u001b[0m\u001b[1;33m/\u001b[0m\u001b[1;36m2\u001b[0m\u001b[1;33m)\u001b[0m\u001b[1;33m:\u001b[0m\u001b[0mint\u001b[0m\u001b[1;33m(\u001b[0m\u001b[0mcenter\u001b[0m\u001b[1;33m+\u001b[0m\u001b[0mimg_size\u001b[0m\u001b[1;33m/\u001b[0m\u001b[1;36m2\u001b[0m\u001b[1;33m)\u001b[0m\u001b[1;33m,\u001b[0m\u001b[0mint\u001b[0m\u001b[1;33m(\u001b[0m\u001b[0mcenter\u001b[0m\u001b[1;33m-\u001b[0m\u001b[0mimg_size\u001b[0m\u001b[1;33m/\u001b[0m\u001b[1;36m2\u001b[0m\u001b[1;33m)\u001b[0m\u001b[1;33m:\u001b[0m\u001b[0mint\u001b[0m\u001b[1;33m(\u001b[0m\u001b[0mcenter\u001b[0m\u001b[1;33m+\u001b[0m\u001b[0mimg_size\u001b[0m\u001b[1;33m/\u001b[0m\u001b[1;36m2\u001b[0m\u001b[1;33m)\u001b[0m\u001b[1;33m]\u001b[0m \u001b[1;31m# create array of target image data values for specified file\u001b[0m\u001b[1;33m\u001b[0m\u001b[0m\n\u001b[0;32m      3\u001b[0m \u001b[1;33m\u001b[0m\u001b[0m\n\u001b[0;32m      4\u001b[0m \u001b[0msurroundings_data\u001b[0m \u001b[1;33m=\u001b[0m \u001b[1;33m[\u001b[0m\u001b[0mnp\u001b[0m\u001b[1;33m.\u001b[0m\u001b[0mloadtxt\u001b[0m\u001b[1;33m(\u001b[0m\u001b[0mcutout_img_list\u001b[0m\u001b[1;33m[\u001b[0m\u001b[0mi\u001b[0m\u001b[1;33m]\u001b[0m\u001b[1;33m,\u001b[0m \u001b[0mdtype\u001b[0m\u001b[1;33m=\u001b[0m\u001b[1;34m'float'\u001b[0m\u001b[1;33m)\u001b[0m \u001b[1;32mfor\u001b[0m \u001b[0mi\u001b[0m \u001b[1;32min\u001b[0m \u001b[0mrange\u001b[0m\u001b[1;33m(\u001b[0m\u001b[1;36m0\u001b[0m\u001b[1;33m,\u001b[0m\u001b[0mfile_count\u001b[0m\u001b[1;33m)\u001b[0m\u001b[1;33m]\u001b[0m  \u001b[1;31m# get data from surrounding area cutouts\u001b[0m\u001b[1;33m\u001b[0m\u001b[0m\n\u001b[0;32m      5\u001b[0m \u001b[1;33m\u001b[0m\u001b[0m\n",
      "\u001b[1;31mNameError\u001b[0m: name 'surroundings_data' is not defined"
     ]
    }
   ],
   "source": [
    "center = len(surroundings_data[img_file-1])/2 # calculate center location of target image\n",
    "target = surroundings_data[img_file-1][int(center-img_size/2):int(center+img_size/2),int(center-img_size/2):int(center+img_size/2)] # create array of target image data values for specified file\n",
    "\n",
    "surroundings_data = [np.loadtxt(cutout_img_list[i], dtype='float') for i in range(0,file_count)]  # get data from surrounding area cutouts\n",
    "\n",
    "# create target image with target aperture and background annulus\n",
    "\n",
    "mpl.rcParams['figure.figsize'] = (20,6)\n",
    "mpl.rcParams['font.size'] = 16\n",
    "\n",
    "plt.subplot(121)\n",
    "plt.title('Target Image')\n",
    "plt.imshow(target, origin='lower')\n",
    "plt.colorbar()\n",
    "aperture_main_cutout.plot(color='red')\n",
    "background_main_cutout.plot(color='orange')\n",
    "\n",
    "\n",
    "target_data = [surroundings_data[i][int(center-img_size/2):int(center+img_size/2),int(center-size/2):int(center+size/2)] for i in range(0,file_count)] # create array of target image data values for all files\n",
    "target_sum = [photometry(target_data[i], aperture_main_cutout, method = 'exact') for i in range(0,file_count)] # sum up exact amount of flux contained in the target aperture\n",
    "target_flux = np.array([target_sum[i]['aperture_sum'] for i in range (0,file_count)]) # get flux of target aperture without disregarding zero flux values\n",
    "\n",
    "\n",
    "# create surrounding area image with target aperture and background annulus\n",
    "\n",
    "plt.subplot(122)\n",
    "plt.title('Target Image Surroudings')\n",
    "plt.imshow(surroundings_data[img_file-1], origin='lower')\n",
    "plt.colorbar() \n",
    "aperture_main_cutout.plot(color='red') \n",
    "aperture_main_cutout.plot(color='orange')\n",
    "plt.show()\n",
    "\n",
    "time = [open_files[i][1].header['JDT'] for i in range(0,len(target_flux))] # get time values for target image data\n",
    "\n",
    "\n",
    "# create light curve for target flux with zero flux values\n",
    "\n",
    "plt.title('Target Flux')\n",
    "plt.xlabel('Time (JDT)')\n",
    "plt.ylabel('Flux')\n",
    "plt.xticks(np.arange(round(min(time),-2), max(time)+1, round((max(time)+1-min(time))/10,-2)))\n",
    "plt.plot(time, target_flux, '.')\n",
    "plt.show()\n",
    "\n",
    "\n",
    "low_flux = (sum(target_flux) / float(len(target_flux)))/10 # !!changed!! an order of magnitude less than target flux avg\n",
    "high_flux = np.inf # upper limit for target flux values\n",
    "\n",
    "\n",
    "# print flux values and corresponding file number for values that fall outside specified limits\n",
    "\n",
    "print(\"Low Flux Values\")\n",
    "print(\"\")\n",
    "print(\"File    Target Flux\")\n",
    "for i in range(0,len(target_flux[target_flux < low_flux])):\n",
    "    print(np.add(np.where(target_flux < low_flux),1)[0][i], \"        \", target_flux[target_flux < low_flux][i])\n",
    "print(\"\")\n",
    "print(\"\")\n",
    "print(\"\")\n",
    "print(\"High Flux Values\")\n",
    "print(\"\")\n",
    "print(\"File    Target Flux\")\n",
    "for i in range(0,len(target_flux[target_flux > high_flux])):\n",
    "    print(np.add(np.where(target_flux > high_flux),1)[0][i], \"        \", target_flux[target_flux > high_flux][i])"
   ]
  },
  {
   "cell_type": "code",
   "execution_count": null,
   "metadata": {
    "collapsed": true
   },
   "outputs": [],
   "source": []
  }
 ],
 "metadata": {
  "kernelspec": {
   "display_name": "Python 3",
   "language": "python",
   "name": "python3"
  },
  "language_info": {
   "codemirror_mode": {
    "name": "ipython",
    "version": 3
   },
   "file_extension": ".py",
   "mimetype": "text/x-python",
   "name": "python",
   "nbconvert_exporter": "python",
   "pygments_lexer": "ipython3",
   "version": "3.6.5"
  }
 },
 "nbformat": 4,
 "nbformat_minor": 2
}
