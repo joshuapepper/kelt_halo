{
 "cells": [
  {
   "cell_type": "code",
   "execution_count": null,
   "metadata": {},
   "outputs": [],
   "source": [
    "Cj=table_list[i][1]\n",
    "n=len(table_list[i][1])\n",
    "\n",
    "Cij=sum(Cj/n)"
   ]
  },
  {
   "cell_type": "code",
   "execution_count": null,
   "metadata": {},
   "outputs": [],
   "source": [
    "# root mean square equation\n",
    "#loop this \n",
    "RMS=sum(((Cij-mean_i)**2)**(1/2)/n)"
   ]
  },
  {
   "cell_type": "code",
   "execution_count": null,
   "metadata": {},
   "outputs": [],
   "source": [
    "#sigma clipping\n",
    "#define mean of star i \n",
    "\n",
    "if len(table_list)>0:\n",
    "\n",
    "    for i in table_count:\n",
    "        star_i = table_list[i]\n",
    "        removed_fluxes = False #checks if there were any removed flxes in this star table\n",
    "        for j in len(star_i[0]):\n",
    "            if abs(star_i[1][j]-mean_of_star_i)>(3*RMS):\n",
    "                star_i[2][j] = '0'\n",
    "                removed_fluxes = True\n",
    "        if removed_fluxes = False:\n",
    "            table_list.remove(star_i)\n"
   ]
  },
  {
   "cell_type": "code",
   "execution_count": null,
   "metadata": {},
   "outputs": [],
   "source": [
    "#create final composite star table "
   ]
  }
 ],
 "metadata": {
  "kernelspec": {
   "display_name": "Python 3",
   "language": "python",
   "name": "python3"
  },
  "language_info": {
   "codemirror_mode": {
    "name": "ipython",
    "version": 3
   },
   "file_extension": ".py",
   "mimetype": "text/x-python",
   "name": "python",
   "nbconvert_exporter": "python",
   "pygments_lexer": "ipython3",
   "version": "3.6.5"
  }
 },
 "nbformat": 4,
 "nbformat_minor": 2
}
