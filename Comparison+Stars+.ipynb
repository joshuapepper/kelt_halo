{
 "cells": [
  {
   "cell_type": "code",
   "execution_count": 6,
   "metadata": {
    "collapsed": true
   },
   "outputs": [],
   "source": [
    "import numpy as np\n",
    "import os, sys\n",
    "from astropy.io import fits\n",
    "from astropy.stats import LombScargle\n",
    "from photutils import aperture_photometry as photometry\n",
    "from photutils import CircularAperture as circle\n",
    "from photutils import CircularAnnulus as annulus\n",
    "from photutils import RectangularAperture as rectangle\n",
    "from photutils import ApertureMask as mask\n",
    "import matplotlib.pyplot as plt\n",
    "import matplotlib as mpl\n",
    "import math \n",
    "import csv\n",
    "import xlwt \n",
    "from xlwt import Workbook \n",
    "%matplotlib inline\n",
    "np.set_printoptions(threshold=np.nan)"
   ]
  },
  {
   "cell_type": "code",
   "execution_count": 14,
   "metadata": {},
   "outputs": [
    {
     "name": "stdout",
     "output_type": "stream",
     "text": [
      "enter x value for target star0\n",
      "enter y value for target star0\n",
      "hi\n",
      "im sad\n",
      "im sad\n",
      "counting\n",
      "1\n",
      "0\n",
      "[  2.   5. 101. 102. 103.   6.   7.   4.   8.  10.  14.  18.  22.  26.\n",
      "  30.  34.  38.  42.  47.  52.  56.  60.   2.]\n",
      "[['1', '0', array([  2.,   5., 101., 102., 103.,   6.,   7.,   4.,   8.,  10.,  14.,\n",
      "        18.,  22.,  26.,  30.,  34.,  38.,  42.,  47.,  52.,  56.,  60.,\n",
      "         2.])]]\n"
     ]
    },
    {
     "ename": "TypeError",
     "evalue": "unsupported operand type(s) for -: 'str' and 'str'",
     "output_type": "error",
     "traceback": [
      "\u001b[0;31m---------------------------------------------------------------------------\u001b[0m",
      "\u001b[0;31mTypeError\u001b[0m                                 Traceback (most recent call last)",
      "\u001b[0;32m<ipython-input-14-df96ff43b506>\u001b[0m in \u001b[0;36m<module>\u001b[0;34m()\u001b[0m\n\u001b[1;32m     43\u001b[0m \u001b[0;34m\u001b[0m\u001b[0m\n\u001b[1;32m     44\u001b[0m \u001b[0;34m\u001b[0m\u001b[0m\n\u001b[0;32m---> 45\u001b[0;31m             \u001b[0mDiff_X\u001b[0m \u001b[0;34m=\u001b[0m \u001b[0mint\u001b[0m\u001b[0;34m(\u001b[0m\u001b[0;34m(\u001b[0m\u001b[0;34m(\u001b[0m\u001b[0mTargetStar_x\u001b[0m\u001b[0;34m)\u001b[0m \u001b[0;34m-\u001b[0m \u001b[0;34m(\u001b[0m\u001b[0mx_coord\u001b[0m\u001b[0;34m)\u001b[0m\u001b[0;34m)\u001b[0m\u001b[0;34m)\u001b[0m \u001b[0;31m#do these need to be floats or strings?\u001b[0m\u001b[0;34m\u001b[0m\u001b[0m\n\u001b[0m\u001b[1;32m     46\u001b[0m             \u001b[0mDiff_Y\u001b[0m \u001b[0;34m=\u001b[0m \u001b[0mint\u001b[0m\u001b[0;34m(\u001b[0m\u001b[0;34m(\u001b[0m\u001b[0mfloat\u001b[0m\u001b[0;34m(\u001b[0m\u001b[0mTargetStar_y\u001b[0m\u001b[0;34m)\u001b[0m \u001b[0;34m-\u001b[0m \u001b[0mfloat\u001b[0m\u001b[0;34m(\u001b[0m\u001b[0my_coord\u001b[0m\u001b[0;34m)\u001b[0m\u001b[0;34m)\u001b[0m\u001b[0;34m)\u001b[0m\u001b[0;34m\u001b[0m\u001b[0m\n\u001b[1;32m     47\u001b[0m \u001b[0;34m\u001b[0m\u001b[0m\n",
      "\u001b[0;31mTypeError\u001b[0m: unsupported operand type(s) for -: 'str' and 'str'"
     ]
    }
   ],
   "source": [
    "if os.path.exists(\"comparison_stars.csv\"):\n",
    "    os.remove(\"comparison_stars.csv\")\n",
    "\n",
    "newF=open(\"comparison_stars.csv\",\"a\")\n",
    "newF.write(\"x_coord\" + \",\" + \"y_coord\" + \",\" + \"brightness\" + \",\" + \"distance\")\n",
    "\n",
    "TargetStar_x=input('enter x value for target star')\n",
    "TargetStar_y=input('enter y value for target star')\n",
    "\n",
    "TargetRange_x=20\n",
    "TargetRange_y=1000\n",
    "\n",
    "x_coord, y_coord, brightness, = np.loadtxt(\"tester.txt\",unpack=True,usecols=(0,1,3))\n",
    "\n",
    "with open(\"tester.txt\", \"r\") as f:\n",
    "    \n",
    "    print(\"hi\")\n",
    "    Bright_List=[]\n",
    "    lines = f.readlines()\n",
    "    line_count=0\n",
    "    #lines = [line.rstrip('\\n')] \n",
    "             \n",
    "    for row in open(\"tester.txt\"):\n",
    "        print(\"im sad\")\n",
    "        line_count += 1\n",
    "        if line_count != 1: \n",
    "            \n",
    "            print(\"counting\")\n",
    "            \n",
    "            #x=row.split()\n",
    "            \n",
    "            x_coord=[0]\n",
    "            y_coord=[1]\n",
    "            brigthness=[3]\n",
    "        \n",
    "            \n",
    "            print(x_coord) #not even listing the numbers in the column for x_coord or y_coord\n",
    "            print(y_coord)\n",
    "            print(brightness) #it is printing everything is the entire column, need it to just be first element in the column for each tiem through the loop\n",
    "            \n",
    "            Bright_List.append([x_coord,y_coord,brightness]) #every star is being added to Bright_List\n",
    "            print(Bright_List)\n",
    "        \n",
    "    \n",
    "            Diff_X = int(((TargetStar_x) - (x_coord))) #do these need to be floats or strings? \n",
    "            Diff_Y = int((float(TargetStar_y) - float(y_coord)))\n",
    "            \n",
    "             if Diff_X <= 20 & Diff_Y <= 1000: \n",
    "                #if it was in range in terms of x and y position added to external excel\n",
    "                distance = math.sqrt( ((float(TargetStar_x)-float(x_coord))**2)+((float(TargetStar_y)-float(y_coord)**2) )\n",
    "                newF.write(([0]) + \",\" + ([1]) + \",\" + ([2]) + \",\" + str(distance)) #cannot seem to write to the new file \"comparison stars\".. trying to put the new information in the new fil\n",
    "\n",
    "            \n",
    "\n",
    "#not mutually exclusive: if it was in range and one of the brightest, it has been added to the list \n",
    "\n",
    "    Bright_List.sort(key = lambda x: x[2]) # sort list in order of brightness\n",
    "    Bright_List = Bright_List[0:20] #go through the list to see if the brightest stars have already\n",
    "    #been printed because they were in range, and if they weren't, then we are now printing them\n",
    "    \n",
    "    for x in Bright_List:\n",
    "        \n",
    "        x_coord=x[0]\n",
    "        y_coord=x[1]\n",
    "        brightness=float(row[4])\n",
    "            \n",
    "        Diff_X = abs(TargetStar_x - x_coord)\n",
    "        Diff_Y = abs(TargetStar_y - y_coord)\n",
    "\n",
    "        if Diff_X > 20 & Diff_Y > 1000: \n",
    "        #out of the range of the closest stars, now we are printing\n",
    "            f.write(str([0]) + \",\" + str([1]) + \",\" + str([2]) + \",\" +'\\n')\n",
    "\n",
    "             "
   ]
  },
  {
   "cell_type": "code",
   "execution_count": null,
   "metadata": {
    "collapsed": true
   },
   "outputs": [],
   "source": []
  },
  {
   "cell_type": "code",
   "execution_count": null,
   "metadata": {
    "collapsed": true
   },
   "outputs": [],
   "source": []
  }
 ],
 "metadata": {
  "kernelspec": {
   "display_name": "Python 3",
   "language": "python",
   "name": "python3"
  },
  "language_info": {
   "codemirror_mode": {
    "name": "ipython",
    "version": 3
   },
   "file_extension": ".py",
   "mimetype": "text/x-python",
   "name": "python",
   "nbconvert_exporter": "python",
   "pygments_lexer": "ipython3",
   "version": "3.6.3"
  }
 },
 "nbformat": 4,
 "nbformat_minor": 2
}
