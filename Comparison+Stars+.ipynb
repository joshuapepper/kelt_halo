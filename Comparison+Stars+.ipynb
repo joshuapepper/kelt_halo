{
 "cells": [
  {
   "cell_type": "code",
   "execution_count": null,
   "metadata": {
    "collapsed": true
   },
   "outputs": [],
   "source": [
    "import numpy as np\n",
    "import os, sys\n",
    "from astropy.io import fits\n",
    "from astropy.stats import LombScargle\n",
    "from photutils import aperture_photometry as photometry\n",
    "from photutils import CircularAperture as circle\n",
    "from photutils import CircularAnnulus as annulus\n",
    "from photutils import RectangularAperture as rectangle\n",
    "from photutils import ApertureMask as mask\n",
    "import matplotlib.pyplot as plt\n",
    "import matplotlib as mpl\n",
    "import math \n",
    "import csv\n",
    "import xlwt \n",
    "from xlwt import Workbook \n",
    "%matplotlib inline\n",
    "np.set_printoptions(threshold=np.nan)"
   ]
  },
  {
   "cell_type": "code",
   "execution_count": null,
   "metadata": {
    "collapsed": true
   },
   "outputs": [],
   "source": [
    "b=open(\"comparison_stars.txt\",\"w+\")\n",
    "b.write(\"#\" + \",\" + \"x_coord\" + \",\" + \"y_coord\" + \",\" + \"brightness\" + \",\" + \"distance\")"
   ]
  },
  {
   "cell_type": "code",
   "execution_count": null,
   "metadata": {
    "collapsed": true
   },
   "outputs": [],
   "source": [
    "TargetStar_x=input('enter x value for target star')\n",
    "TargetStar_y=input('enter y value for target star')\n",
    "\n",
    "TargetRange_x=20\n",
    "TargetRange_y=1000\n",
    "\n",
    "x_coord, y_coord, brightness, = np.loadtxt(\"tester.txt\",unpack=True,usecols=(0,1,3))\n",
    "\n",
    "with open(\"tester.txt\", \"r\") as f:\n",
    "    \n",
    "    Bright_List=[]\n",
    "    lines = f.readlines()\n",
    "    line_count=0\n",
    "    i=0\n",
    "             \n",
    "    while i < len(\"tester.txt\"):\n",
    "\n",
    "        line_count += 1\n",
    "        i += 1\n",
    "        if line_count != 1: \n",
    "            \n",
    "            x_coord_now=x_coord[i]\n",
    "            y_coord_now=y_coord[i]\n",
    "            brightness_now=brightness[i]\n",
    "        \n",
    "    \n",
    "            Diff_X = ((float(TargetStar_x) - float(x_coord_now))) \n",
    "            Diff_Y = ((float(TargetStar_y) - float(y_coord_now)))\n",
    "            \n",
    "            \n",
    "            if Diff_X <= 20 and Diff_Y <= 1000: \n",
    "                Bright_List.append([x_coord_now,y_coord_now,brightness_now])\n",
    "                distance = math.sqrt(((abs(Diff_X))**2)+abs((Diff_Y)**2))\n",
    "            \n",
    "           \n",
    "\n",
    "    Bright_List.sort(key = lambda x: x[2]) \n",
    "    Bright_List = Bright_List[0:20] \n",
    "    \n",
    "    #print(Bright_List)\n",
    "   \n",
    "    for j in Bright_List: \n",
    "        b.write(\"\\n\" + str(j))\n",
    "        print(j)\n",
    "        \n",
    "\n",
    "\n",
    "       \n",
    "        \n",
    "            \n",
    "             "
   ]
  },
  {
   "cell_type": "code",
   "execution_count": null,
   "metadata": {
    "collapsed": true
   },
   "outputs": [],
   "source": []
  },
  {
   "cell_type": "code",
   "execution_count": null,
   "metadata": {
    "collapsed": true
   },
   "outputs": [],
   "source": []
  }
 ],
 "metadata": {
  "kernelspec": {
   "display_name": "Python 3",
   "language": "python",
   "name": "python3"
  },
  "language_info": {
   "codemirror_mode": {
    "name": "ipython",
    "version": 3
   },
   "file_extension": ".py",
   "mimetype": "text/x-python",
   "name": "python",
   "nbconvert_exporter": "python",
   "pygments_lexer": "ipython3",
   "version": "3.6.3"
  }
 },
 "nbformat": 4,
 "nbformat_minor": 2
}
